{
 "cells": [
  {
   "cell_type": "markdown",
   "id": "4725f518-81c4-4924-893e-162bba161765",
   "metadata": {},
   "source": [
    "## El siguiente codigo realiza operaciones de serializacion y deserializacion de objetos haciendo uso del modulo pickle. "
   ]
  },
  {
   "cell_type": "markdown",
   "id": "a7c367b8-1de0-4294-9a8b-890b3c5a5a26",
   "metadata": {},
   "source": [
    "## Se define una varaiable llamada Empleado que tiene 3 atributos los cuales son (nombre, edad y area de trabajo "
   ]
  },
  {
   "cell_type": "markdown",
   "id": "fc91b804-0736-426e-b399-6d4661ce1efb",
   "metadata": {},
   "source": [
    "## Defino 2 variables llamadas serializar_objeto y deserializar_objeto  "
   ]
  },
  {
   "cell_type": "markdown",
   "id": "156d3c2f-249b-4ee9-9cef-95530ab21e93",
   "metadata": {},
   "source": [
    "## En el bloque if __name__ == \"__main__\":\n",
    "\n",
    "## - Se crea una clase Empleado llamada empleado_og con algunos valores específicos (nombre, edad y área de trabajo).\n",
    "## - Se llama a la función serializar_objeto para serializar el objeto empleado_og y almacenarlo en un archivo binario con el nombre \"empleado.pickle\".\n",
    "## - Se llama a la función deserializar_objeto para deserializar el objeto desde el archivo binario \"empleado.pickle\" y se guarda en la variable empleado_recuperado.\n",
    "## - Se imprime la información del objeto original (empleado_og) y del objeto recuperado (empleado_recuperado)."
   ]
  },
  {
   "cell_type": "markdown",
   "id": "8fdac3e2-34cf-4955-8d37-8cc7ab73ee0a",
   "metadata": {},
   "source": [
    "## El codigo es el siguiente: "
   ]
  },
  {
   "cell_type": "code",
   "execution_count": 1,
   "id": "ec353112-e03d-43dd-8540-3f21710150b7",
   "metadata": {},
   "outputs": [
    {
     "name": "stdout",
     "output_type": "stream",
     "text": [
      "Objeto serializado y almacenado en Empleado.pickle\n",
      "\n",
      "Objeto Original:\n",
      "Nombre: Jonathan, Edad: 18\n",
      "\n",
      "Objeto Recuperado:\n",
      "Nombre: Jonathan, Edad: 18\n"
     ]
    }
   ],
   "source": [
    "import pickle\n",
    "\n",
    "# Defino la clase llamada Empleado\n",
    "class Empleado:\n",
    "    def __init__(self, nombre, edad, area_trabajo): \n",
    "        self.nombre = nombre\n",
    "        self.edad = edad\n",
    "        self.area_trabajo = area_trabajo\n",
    "\n",
    "# Serializar el objeto y almacenarlo en un archivo binario\n",
    "def serializar_objeto(objeto, Info_Empelados):\n",
    "    with open(Info_Empelados, 'wb') as archivo:\n",
    "        pickle.dump(objeto, archivo)\n",
    "    print(f'Objeto serializado y almacenado en {Info_Empelados}')\n",
    "\n",
    "# Deserializar el objeto desde un archivo binario\n",
    "def deserializar_objeto(Info_Empelados):\n",
    "    with open(Info_Empelados, 'rb') as archivo:\n",
    "        objeto = pickle.load(archivo)\n",
    "    return objeto\n",
    "\n",
    "if __name__ == \"__main__\":\n",
    "    # Creo un objeto\n",
    "    Empleado_og = Empleado(nombre='Jonathan', edad=18, area_trabajo= \"Programador\")\n",
    "\n",
    "    # Serializar el objeto y almacenarlo en un archivo binario\n",
    "    Info_Empelados = 'Empleado.pickle'\n",
    "    serializar_objeto(Empleado_og, Info_Empelados)\n",
    "\n",
    "    # Deserializar el objeto desde el archivo binario\n",
    "    Empleado_recuperado = deserializar_objeto(Info_Empelados)\n",
    "\n",
    "    # Mostrar el objeto original y el objeto recuperado\n",
    "    print('\\nObjeto Original:')\n",
    "    print(f'Nombre: {Empleado_og.nombre}, Edad: {Empleado_og.edad}, Area')\n",
    "\n",
    "    print('\\nObjeto Recuperado:')\n",
    "    print(f'Nombre: {Empleado_recuperado.nombre}, Edad: {Empleado_recuperado.edad}')"
   ]
  },
  {
   "cell_type": "code",
   "execution_count": null,
   "id": "3e2ca975-bea1-4c97-b600-1fe405b930e1",
   "metadata": {},
   "outputs": [],
   "source": [
    "## Demostracion de uso arriba "
   ]
  }
 ],
 "metadata": {
  "kernelspec": {
   "display_name": "Python 3 (ipykernel)",
   "language": "python",
   "name": "python3"
  },
  "language_info": {
   "codemirror_mode": {
    "name": "ipython",
    "version": 3
   },
   "file_extension": ".py",
   "mimetype": "text/x-python",
   "name": "python",
   "nbconvert_exporter": "python",
   "pygments_lexer": "ipython3",
   "version": "3.12.0"
  }
 },
 "nbformat": 4,
 "nbformat_minor": 5
}
