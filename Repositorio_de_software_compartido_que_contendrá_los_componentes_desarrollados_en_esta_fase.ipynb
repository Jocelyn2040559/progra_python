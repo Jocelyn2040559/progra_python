{
 "cells": [
  {
   "cell_type": "markdown",
   "id": "4dac1338-4123-4f03-aad1-70bd83fa23d9",
   "metadata": {},
   "source": [
    "# Se a creado una clase llamada Empleado que nos guarda la informacion de los trabajadores les pide el nombre, edad y el area de trabajo de cada uno de ellos, definimos 3 variables las cuales son nombre, edad, area_trabajo al final imprime los resulatos del empleado los cuales se escriben al final del codigo, al imprimir los resultados escribe cual es su numbre, su edad y el area en la que trabaja"
   ]
  },
  {
   "cell_type": "markdown",
   "id": "b83214da-0f66-4023-8ee2-1c3543db2e00",
   "metadata": {},
   "source": [
    "## El codigo de la clase llamada Empleado es la siguiente: "
   ]
  },
  {
   "cell_type": "code",
   "execution_count": 1,
   "id": "8966c91b-811f-4bf3-b949-a688411ce429",
   "metadata": {},
   "outputs": [
    {
     "name": "stdout",
     "output_type": "stream",
     "text": [
      "Nombre: Jonathan\n",
      "Edad: 18\n",
      "Area de trabajo: Programador\n"
     ]
    }
   ],
   "source": [
    "class Empleado:\n",
    "  def __init__(self, nombre, edad, area_trabajo ): \n",
    "    self._n = nombre \n",
    "    self._e = edad \n",
    "    self._at = area_trabajo \n",
    "\n",
    "  def nombre(self):\n",
    "    return self._n   \n",
    "  \n",
    "  def edad(self): \n",
    "    return self._e\n",
    "\n",
    "  def area_trabajo(self): \n",
    "    return self._at\n",
    "\n",
    "  def imprimir_informacion(self): \n",
    "    print(f\"Nombre: {self.nombre()}\") \n",
    "    print(f\"Edad: {self.edad()}\") \n",
    "    print(f\"Area de trabajo: {self.area_trabajo()}\") \n",
    "\n",
    "Empleado1= Empleado(\"Jonathan\", 18, \"Programador\")\n",
    "Empleado1.imprimir_informacion()"
   ]
  },
  {
   "cell_type": "markdown",
   "id": "63dfde6b-046f-4ac1-916c-2fe6fbbcbc8d",
   "metadata": {},
   "source": [
    "# Demostracion de uso "
   ]
  },
  {
   "cell_type": "code",
   "execution_count": null,
   "id": "881cc4dc-c7d4-4adb-97f0-c27ada278b47",
   "metadata": {},
   "outputs": [],
   "source": []
  }
 ],
 "metadata": {
  "kernelspec": {
   "display_name": "Python 3 (ipykernel)",
   "language": "python",
   "name": "python3"
  },
  "language_info": {
   "codemirror_mode": {
    "name": "ipython",
    "version": 3
   },
   "file_extension": ".py",
   "mimetype": "text/x-python",
   "name": "python",
   "nbconvert_exporter": "python",
   "pygments_lexer": "ipython3",
   "version": "3.12.0"
  }
 },
 "nbformat": 4,
 "nbformat_minor": 5
}
