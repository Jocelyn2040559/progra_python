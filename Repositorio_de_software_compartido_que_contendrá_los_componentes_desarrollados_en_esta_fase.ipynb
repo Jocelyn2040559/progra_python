{
  "nbformat": 4,
  "nbformat_minor": 0,
  "metadata": {
    "colab": {
      "provenance": [],
      "authorship_tag": "ABX9TyOiJOEmD+WF5VAy8wyYv0wD",
      "include_colab_link": true
    },
    "kernelspec": {
      "name": "python3",
      "display_name": "Python 3"
    },
    "language_info": {
      "name": "python"
    }
  },
  "cells": [
    {
      "cell_type": "markdown",
      "metadata": {
        "id": "view-in-github",
        "colab_type": "text"
      },
      "source": [
        "<a href=\"https://colab.research.google.com/github/Jocelyn2040559/progra_python/blob/main/Repositorio_de_software_compartido_que_contendr%C3%A1_los_componentes_desarrollados_en_esta_fase.ipynb\" target=\"_parent\"><img src=\"https://colab.research.google.com/assets/colab-badge.svg\" alt=\"Open In Colab\"/></a>"
      ]
    },
    {
      "cell_type": "code",
      "execution_count": 12,
      "metadata": {
        "colab": {
          "base_uri": "https://localhost:8080/"
        },
        "id": "lqfUQHvo7DfA",
        "outputId": "c50c9e88-2445-4620-b380-d3805091b88f"
      },
      "outputs": [
        {
          "output_type": "stream",
          "name": "stdout",
          "text": [
            "Nombre: Jonathan\n",
            "Edad: 18\n",
            "Area de trabajo: Programador\n"
          ]
        }
      ],
      "source": [
        "\n",
        "class Empleado:\n",
        "  def __init__(self, nombre, edad, area_trabajo ):\n",
        "    self._n = nombre\n",
        "    self._e = edad\n",
        "    self._at = area_trabajo\n",
        "\n",
        "  def nombre(self):\n",
        "    return self._n\n",
        "\n",
        "  def edad(self):\n",
        "    return self._e\n",
        "\n",
        "  def area_trabajo(self):\n",
        "    return self._at\n",
        "\n",
        "  def imprimir_informacion(self):\n",
        "    print(f\"Nombre: {self.nombre()}\")\n",
        "    print(f\"Edad: {self.edad()}\")\n",
        "    print(f\"Area de trabajo: {self.area_trabajo()}\")\n",
        "\n",
        "Empleado1= Empleado(\"Jonathan\", 18, \"Programador\")\n",
        "Empleado1.imprimir_informacion()\n",
        "\n",
        ""
      ]
    }
  ]
}